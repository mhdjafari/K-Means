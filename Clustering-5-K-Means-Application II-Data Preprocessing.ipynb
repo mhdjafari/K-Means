{
 "cells": [
  {
   "cell_type": "markdown",
   "metadata": {},
   "source": [
    "# K-Means Application: Data Preprocessing\n",
    "\n",
    "\n",
    "We can use clustering as a data preprocessing step before applying a supervised learning algorithm. For example, clustering can be used to perform **dimensionality reduction**.\n",
    "\n",
    "\n",
    "### How does the K-Means algorithm perform dimensionality reduction?\n",
    "\n",
    "First, we cluster a high-dimensional feature vector using the K-Means algorithm. The result is a set of k cluster centers.\n",
    "\n",
    "Then, we represent each of the original data points in terms of how far it is from each of these cluster centers. That is, we can compute the distance of a data point to each cluster center. The result is a **set of k distances for each data point**.\n",
    "\n",
    "These k distances can form a new vector of dimension k. \n",
    "\n",
    "Finally, we represent our original data as a new vector of lower dimension, relative to the original feature dimension.\n",
    "\n",
    "\n",
    "#### Dimensionality Reduction of a Handwritten Digits Dataset\n",
    "\n",
    "We perform K-Means dimesionality reduction on a high-dimentional handwritten digits dataset. Then, we classify the dataset using a standard supervised algorithm.\n",
    "\n",
    "Our goal is to see whether we can improve classification accuracy by using K-Means as a preprocessing step."
   ]
  },
  {
   "cell_type": "code",
   "execution_count": 2,
   "metadata": {},
   "outputs": [],
   "source": [
    "from time import time\n",
    "import numpy as np\n",
    "%matplotlib inline\n",
    "import matplotlib.pyplot as plt\n",
    "\n",
    "from sklearn.datasets import load_digits\n",
    "from sklearn.cluster import KMeans\n",
    "from sklearn.linear_model import LogisticRegression\n",
    "\n",
    "from sklearn.model_selection import train_test_split\n",
    "from sklearn.pipeline import Pipeline\n",
    "\n",
    "from sklearn.model_selection import GridSearchCV"
   ]
  },
  {
   "cell_type": "markdown",
   "metadata": {},
   "source": [
    "## Dataset\n",
    "\n",
    "We will use a handwritten digits dataset.\n",
    "\n",
    "It has 1,797 images. \n",
    "\n",
    "Each image is grayscale 8 x 8 pixels, and each feature simply represents one pixel’s intensity, from 0 (white) to 255 (black).\n",
    "\n",
    "Thus, each image has **64 features**.\n",
    "\n",
    "First, we load the data directly from cloud using Scikit-Learn."
   ]
  },
  {
   "cell_type": "code",
   "execution_count": 3,
   "metadata": {},
   "outputs": [
    {
     "name": "stdout",
     "output_type": "stream",
     "text": [
      "(1797, 64)\n"
     ]
    }
   ],
   "source": [
    "X_digits, y_digits = load_digits(return_X_y=True)\n",
    "\n",
    "print(X_digits.shape)"
   ]
  },
  {
   "cell_type": "markdown",
   "metadata": {},
   "source": [
    "## Display a Random Image\n",
    "\n",
    "To display a digit, we need to reshape an instance’s feature vector to a 8 x 8 array.\n",
    "\n",
    "For displaying we use Matplotlib’s imshow() function.\n",
    "\n",
    "We see that there are white numbers on a black background, each thickly written just in the middle and they are quite low resolution (8 x 8 pixels)."
   ]
  },
  {
   "cell_type": "code",
   "execution_count": 13,
   "metadata": {},
   "outputs": [
    {
     "data": {
      "image/png": "[encoded data removed]",
      "text/plain": [
       "<Figure size 432x288 with 1 Axes>"
      ]
     },
     "metadata": {
      "needs_background": "light"
     },
     "output_type": "display_data"
    },
    {
     "data": {
      "text/plain": [
       "array([ 0.,  2., 13., 16., 16., 16., 11.,  0.,  0.,  5., 16., 10.,  5.,\n",
       "        4.,  1.,  0.,  0.,  6., 16.,  7.,  3.,  0.,  0.,  0.,  0.,  9.,\n",
       "       16., 16., 16.,  6.,  0.,  0.,  0.,  3.,  8.,  4., 11., 15.,  0.,\n",
       "        0.,  0.,  0.,  0.,  1., 12., 15.,  0.,  0.,  0.,  0.,  4., 13.,\n",
       "       16.,  6.,  0.,  0.,  0.,  2., 16., 15.,  8.,  0.,  0.,  0.])"
      ]
     },
     "execution_count": 13,
     "metadata": {},
     "output_type": "execute_result"
    }
   ],
   "source": [
    "random_digit = X_digits[32]\n",
    "\n",
    "random_digit_image = random_digit.reshape(8, 8)\n",
    "\n",
    "plt.imshow(random_digit_image, cmap = 'gray', interpolation=\"nearest\")\n",
    "plt.axis(\"off\")\n",
    "plt.show()\n",
    "X_digits[32]"
   ]
  },
  {
   "cell_type": "markdown",
   "metadata": {},
   "source": [
    "## Visualize A Number With Pixel Values\n",
    "\n",
    "Let's visualize the above number with its pixel values.\n",
    "\n",
    "Note that the images are grayscale. Before plotting the grayscale pixel values we need to understand the grayscale image format.\n",
    "\n",
    "### Grayscale Image Format\n",
    "\n",
    "A grayscale (or graylevel) image is simply one in which the only colors are shades of gray. The reason for differentiating such images from any other sort of color image is that less information needs to be provided for each pixel.\n",
    "\n",
    "In fact a 'gray' color is one in which the red, green and blue components all have equal intensity in RGB space, and so it is only necessary to specify a single intensity value for each pixel, as opposed to the three intensities needed to specify each pixel in a full color image.\n",
    "\n",
    "For a grayscale images, the pixel value is a single number that represents the brightness of the pixel. The most common pixel format is the byte image, where this number is stored as an 8-bit integer giving a range of possible values from 0 to 255.\n",
    "\n",
    "Typically 0 is taken to be black, and 255 is taken to be white. Values in between make up the different shades of gray."
   ]
  },
  {
   "cell_type": "code",
   "execution_count": 4,
   "metadata": {},
   "outputs": [
    {
     "data": {
      "image/png": "[encoded data removed]",
      "text/plain": [
       "<Figure size 864x864 with 1 Axes>"
      ]
     },
     "metadata": {
      "needs_background": "light"
     },
     "output_type": "display_data"
    }
   ],
   "source": [
    "# Visualize a number with its pixel values\n",
    "def visualize_input(img):\n",
    "    fig = plt.figure(figsize = (12,12)) \n",
    "    img = img.reshape(8, 8)\n",
    "    plt.imshow(img, cmap='gray')\n",
    "    width, height = img.shape\n",
    "    thresh = img.max()/2.5\n",
    "    for x in range(width):\n",
    "        for y in range(height):\n",
    "            plt.annotate(str(round(img[x][y],2)), xy=(y,x),\n",
    "                        horizontalalignment='center',\n",
    "                        verticalalignment='center',\n",
    "                        color='white' if img[x][y]<thresh else 'black')\n",
    "\n",
    "            \n",
    "visualize_input(X_digits[32])"
   ]
  },
  {
   "cell_type": "markdown",
   "metadata": {},
   "source": [
    "## Create Train and Test Dataset\n",
    "\n",
    "We use sklearn's train_test_split function to spilt the dataset into training and test subsets. The data is shuffled by default before splitting."
   ]
  },
  {
   "cell_type": "code",
   "execution_count": 14,
   "metadata": {},
   "outputs": [
    {
     "name": "stdout",
     "output_type": "stream",
     "text": [
      "Dimension of X_train:  (1347, 64)\n"
     ]
    }
   ],
   "source": [
    "X_train, X_test, y_train, y_test = train_test_split(X_digits, y_digits, random_state=42)\n",
    "\n",
    "print(\"Dimension of X_train: \", X_train.shape)"
   ]
  },
  {
   "cell_type": "markdown",
   "metadata": {},
   "source": [
    "## Classification Model: Logistic Regression\n",
    "\n",
    "We use Logistic Regression to classify the data and use its accuracy as our baseline for comparison.\n",
    "\n",
    "First, we classify the data without any preprocessing.\n",
    "\n",
    "Then, we preprocess the data and perform classification.\n",
    "\n",
    "Finally, we evaluate the impact of preprocessing by comparing the accuracies."
   ]
  },
  {
   "cell_type": "code",
   "execution_count": 16,
   "metadata": {},
   "outputs": [
    {
     "name": "stdout",
     "output_type": "stream",
     "text": [
      "Accuracy (before preprocessing):  0.9688888888888889\n"
     ]
    },
    {
     "data": {
      "text/plain": [
       "0.9970304380103935"
      ]
     },
     "execution_count": 16,
     "metadata": {},
     "output_type": "execute_result"
    }
   ],
   "source": [
    "log_reg = LogisticRegression(multi_class=\"ovr\", solver=\"lbfgs\", max_iter=5000, random_state=42)\n",
    "log_reg.fit(X_train, y_train)\n",
    "\n",
    "accuracy_before_preprocessing = log_reg.score(X_test, y_test)\n",
    "\n",
    "print(\"Accuracy (before preprocessing): \", accuracy_before_preprocessing)\n",
    "log_reg.score(X_train, y_train)"
   ]
  },
  {
   "cell_type": "markdown",
   "metadata": {},
   "source": [
    "## Preprocessing by K-Means + Classification\n",
    "\n",
    "Our goal is to see whether we can improve classification accuracy by using K-Means as a preprocessing step.\n",
    "\n",
    "We reduce the dimension of the features by using K-Means.\n",
    "\n",
    "- Step 1: Choose a number of clusters to be the projected dimension of our features and train the K-Means model.\n",
    "- Step 2: Compute the distance of the data points from each cluster center. These distances will be the new feature vector.\n",
    "\n",
    "        Note that we need to compute the new features for both the training and test dataset after fitting the model with the training data.\n",
    "\n"
   ]
  },
  {
   "cell_type": "code",
   "execution_count": 17,
   "metadata": {},
   "outputs": [
    {
     "name": "stdout",
     "output_type": "stream",
     "text": [
      "\n",
      "Dimension of the New Features:  (1347, 50)\n",
      "\n",
      "Dimension of the Old Features:  (1347, 64)\n",
      "\n",
      "Accuracy (after preprocessing):  0.9777777777777777\n"
     ]
    }
   ],
   "source": [
    "# Step 1: Choose a number of clusters to be the projected dimension of our features and train the K-Means model.\n",
    "kmeans = KMeans(n_clusters=50, random_state=42)\n",
    "kmeans.fit(X_train)\n",
    "\n",
    "\n",
    "# Step 2: Compute the distance of the data points from each cluster center. \n",
    "#         These distances will be the new feature vector.\n",
    "X_train_new = kmeans.transform(X_train)\n",
    "X_test_new = kmeans.transform(X_test)\n",
    "\n",
    "print(\"\\nDimension of the New Features: \", X_train_new.shape)\n",
    "print(\"\\nDimension of the Old Features: \", X_train.shape)\n",
    "\n",
    "# Classify the data using the new features\n",
    "log_reg = LogisticRegression(multi_class=\"ovr\", solver=\"lbfgs\", max_iter=5000, random_state=42)\n",
    "log_reg.fit(X_train_new, y_train)\n",
    "\n",
    "\n",
    "accuracy_after_preprocessing = log_reg.score(X_test_new, y_test)\n",
    "print(\"\\nAccuracy (after preprocessing): \", accuracy_after_preprocessing)"
   ]
  },
  {
   "cell_type": "markdown",
   "metadata": {},
   "source": [
    "## Preprocessing by K-Means + Classification using a Pipeline\n",
    "\n",
    "We can perform the preprocessing (two steps) and classification by creating a pipeline."
   ]
  },
  {
   "cell_type": "code",
   "execution_count": 19,
   "metadata": {},
   "outputs": [
    {
     "name": "stdout",
     "output_type": "stream",
     "text": [
      "Preprocessing + Training Complete in 6.673s\n",
      "\n",
      "Accuracy (after preprocessing):  0.9777777777777777\n",
      "Reduction in Error Rate: 0.285714\n"
     ]
    }
   ],
   "source": [
    "t0 = time()\n",
    "\n",
    "pipeline = Pipeline([\n",
    "    (\"kmeans\", KMeans(n_clusters=50, random_state=42)),\n",
    "    (\"log_reg\", LogisticRegression(multi_class=\"ovr\", solver=\"lbfgs\", max_iter=5000, random_state=42)),\n",
    "])\n",
    "pipeline.fit(X_train, y_train)\n",
    "\n",
    "print(\"Preprocessing + Training Complete in %0.3fs\" % (time() - t0))\n",
    "\n",
    "accuracy_after_preprocessing = pipeline.score(X_test, y_test)\n",
    "\n",
    "print(\"\\nAccuracy (after preprocessing): \", accuracy_after_preprocessing)\n",
    "\n",
    "reduction_in_error = 1 - (1 - accuracy_after_preprocessing) / (1 - accuracy_before_preprocessing)\n",
    "print(\"Reduction in Error Rate: %f\" %  reduction_in_error)"
   ]
  },
  {
   "cell_type": "markdown",
   "metadata": {},
   "source": [
    "## Observation\n",
    "\n",
    "The error rate is reduced by more than 28%! \n",
    "\n",
    "However, note that we chose the number of clusters $k$ completely arbitrarily.\n",
    "\n",
    "We can perform a grid search to find the optimal value for $k$ that results in the best classification performance.\n",
    "\n",
    "## Grid Search for the Optimal Value of $k$"
   ]
  },
  {
   "cell_type": "code",
   "execution_count": null,
   "metadata": {},
   "outputs": [
    {
     "name": "stdout",
     "output_type": "stream",
     "text": [
      "Fitting 3 folds for each of 98 candidates, totalling 294 fits\n"
     ]
    }
   ],
   "source": [
    "%%time\n",
    "\n",
    "param_grid = dict(kmeans__n_clusters=range(2, 100))\n",
    "grid_clf = GridSearchCV(pipeline, param_grid, cv=3, verbose=1)\n",
    "grid_clf.fit(X_train, y_train)\n",
    "\n",
    "\n",
    "params_optimal_grid_clf = grid_clf.best_params_\n",
    "\n",
    "print(\"Optimal Hyperparameter Values: \", params_optimal_grid_clf)\n",
    "print(\"Grid Accuracy: \", grid_clf.score(X_test, y_test))\n",
    "print(\"\\n\")"
   ]
  },
  {
   "cell_type": "markdown",
   "metadata": {},
   "source": [
    "## Preprocessing by Optimal Number of $k$ + Classification"
   ]
  },
  {
   "cell_type": "code",
   "execution_count": 10,
   "metadata": {},
   "outputs": [
    {
     "name": "stdout",
     "output_type": "stream",
     "text": [
      "Optimal Number of Clusters:  93\n",
      "Preprocessing + Training Complete in 5.341s\n",
      "\n",
      "Accuracy (after preprocessing):  0.98\n",
      "Reduction in Error Rate: 0.357143\n"
     ]
    }
   ],
   "source": [
    "print(\"Optimal Number of Clusters: \", params_optimal_grid_clf['kmeans__n_clusters'])\n",
    "\n",
    "t0 = time()\n",
    "\n",
    "pipeline = Pipeline([\n",
    "    (\"kmeans\", KMeans(n_clusters=params_optimal_grid_clf['kmeans__n_clusters'], random_state=42)),\n",
    "    (\"log_reg\", LogisticRegression(multi_class=\"ovr\", solver=\"lbfgs\", max_iter=5000, random_state=42)),\n",
    "])\n",
    "pipeline.fit(X_train, y_train)\n",
    "\n",
    "print(\"Preprocessing + Training Complete in %0.3fs\" % (time() - t0))\n",
    "\n",
    "accuracy_after_preprocessing = pipeline.score(X_test, y_test)\n",
    "\n",
    "print(\"\\nAccuracy (after preprocessing): \", accuracy_after_preprocessing)\n",
    "\n",
    "reduction_in_error = 1 - (1 - accuracy_after_preprocessing) / (1 - accuracy_before_preprocessing)\n",
    "print(\"Reduction in Error Rate: %f\" %  reduction_in_error)"
   ]
  },
  {
   "cell_type": "markdown",
   "metadata": {},
   "source": [
    "## Observation: Grid Search\n",
    "\n",
    "\n",
    "After using the optimal number of $k$, error rate is reduced by more than 35%!\n",
    "\n",
    "However, the dimension of the features actually incresed from 64 to 93. So, it is not technically dimensionality \"reduction\".\n",
    "\n",
    "We increased the performance by projecting the features on a different space that has more dimension.\n"
   ]
  }
 ],
 "metadata": {
  "kernelspec": {
   "display_name": "Python 3",
   "language": "python",
   "name": "python3"
  },
  "language_info": {
   "codemirror_mode": {
    "name": "ipython",
    "version": 3
   },
   "file_extension": ".py",
   "mimetype": "text/x-python",
   "name": "python",
   "nbconvert_exporter": "python",
   "pygments_lexer": "ipython3",
   "version": "3.8.5"
  }
 },
 "nbformat": 4,
 "nbformat_minor": 2
}
